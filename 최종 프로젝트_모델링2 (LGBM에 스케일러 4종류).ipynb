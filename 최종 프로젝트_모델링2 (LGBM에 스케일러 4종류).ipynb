{
 "cells": [
  {
   "cell_type": "code",
   "execution_count": 1,
   "id": "7fde9316",
   "metadata": {},
   "outputs": [],
   "source": [
    "import pandas as pd\n",
    "import numpy as np\n",
    "import seaborn as sns\n",
    "import matplotlib.pyplot as plt"
   ]
  },
  {
   "cell_type": "code",
   "execution_count": 2,
   "id": "00df267c",
   "metadata": {},
   "outputs": [],
   "source": [
    "df_OO_min = pd.read_csv(\"C:/Users/jinje/바탕 화면/내일배움캠프/최종 프로젝트/scaler_OO_min.csv\")\n",
    "df_OO_st = pd.read_csv(\"C:/Users/jinje/바탕 화면/내일배움캠프/최종 프로젝트/scaler_OO_st.csv\")\n",
    "df_OO_rob = pd.read_csv(\"C:/Users/jinje/바탕 화면/내일배움캠프/최종 프로젝트/scaler_OO_rob.csv\")\n",
    "df_OO_max = pd.read_csv(\"C:/Users/jinje/바탕 화면/내일배움캠프/최종 프로젝트/scaler_OO_max.csv\")\n",
    "df_OX_min = pd.read_csv(\"C:/Users/jinje/바탕 화면/내일배움캠프/최종 프로젝트/scaler_OX_min.csv\")\n",
    "df_OX_st = pd.read_csv(\"C:/Users/jinje/바탕 화면/내일배움캠프/최종 프로젝트/scaler_OX_st.csv\")\n",
    "df_OX_rob = pd.read_csv(\"C:/Users/jinje/바탕 화면/내일배움캠프/최종 프로젝트/scaler_OX_rob.csv\")\n",
    "df_OX_max = pd.read_csv(\"C:/Users/jinje/바탕 화면/내일배움캠프/최종 프로젝트/scaler_OX_max.csv\")\n",
    "df_XO_min = pd.read_csv(\"C:/Users/jinje/바탕 화면/내일배움캠프/최종 프로젝트/scaler_XO_min.csv\")\n",
    "df_XO_st = pd.read_csv(\"C:/Users/jinje/바탕 화면/내일배움캠프/최종 프로젝트/scaler_XO_st.csv\")\n",
    "df_XO_rob = pd.read_csv(\"C:/Users/jinje/바탕 화면/내일배움캠프/최종 프로젝트/scaler_XO_rob.csv\")\n",
    "df_XO_max = pd.read_csv(\"C:/Users/jinje/바탕 화면/내일배움캠프/최종 프로젝트/scaler_XO_max.csv\")\n",
    "df_XX_min = pd.read_csv(\"C:/Users/jinje/바탕 화면/내일배움캠프/최종 프로젝트/scaler_XX_min.csv\")\n",
    "df_XX_st = pd.read_csv(\"C:/Users/jinje/바탕 화면/내일배움캠프/최종 프로젝트/scaler_XX_st.csv\")\n",
    "df_XX_rob = pd.read_csv(\"C:/Users/jinje/바탕 화면/내일배움캠프/최종 프로젝트/scaler_XX_rob.csv\")\n",
    "df_XX_max = pd.read_csv(\"C:/Users/jinje/바탕 화면/내일배움캠프/최종 프로젝트/scaler_XX_max.csv\")"
   ]
  },
  {
   "cell_type": "code",
   "execution_count": 37,
   "id": "4216b982",
   "metadata": {},
   "outputs": [],
   "source": [
    "YR = pd.read_csv(\"C:/Users/jinje/바탕 화면/내일배움캠프/최종 프로젝트/train_df1_minmax.csv\")"
   ]
  },
  {
   "cell_type": "markdown",
   "id": "01d5c36e",
   "metadata": {},
   "source": [
    "# LGBM 모델 적합\n",
    "- 하이퍼파라미터 튜닝 X  \n",
    "- train : test = 8 : 2  \n",
    "- random_state = 42"
   ]
  },
  {
   "cell_type": "code",
   "execution_count": 3,
   "id": "5002993b",
   "metadata": {},
   "outputs": [],
   "source": [
    "from sklearn.metrics import mean_squared_error, mean_absolute_error, median_absolute_error\n",
    "import numpy as np\n",
    "\n",
    "# RMSE 계산\n",
    "def calculate_rmse(y_true, y_pred):\n",
    "    return np.sqrt(mean_squared_error(y_true, y_pred))\n",
    "\n",
    "# MDAPE 계산\n",
    "def calculate_mdape(y_true, y_pred):\n",
    "    absolute_percentage_errors = np.abs((y_true - y_pred) / y_true)\n",
    "    return np.median(absolute_percentage_errors) * 100"
   ]
  },
  {
   "cell_type": "markdown",
   "id": "dd628cdf",
   "metadata": {},
   "source": [
    "## 1. df_00 (Hispanic Origin 전처리 O & Birth_Country 전처리 O)"
   ]
  },
  {
   "cell_type": "markdown",
   "id": "0b72656e",
   "metadata": {},
   "source": [
    "### (1) minmax scaler"
   ]
  },
  {
   "cell_type": "code",
   "execution_count": 4,
   "id": "3d41c161",
   "metadata": {},
   "outputs": [],
   "source": [
    "from sklearn.model_selection import train_test_split\n",
    "\n",
    "y = df_OO_min[\"Income\"]\n",
    "\n",
    "X = df_OO_min.copy()\n",
    "X = X.drop([\"ID\",\"Income\"], axis = 1)\n",
    "\n",
    "X_train, X_test, y_train, y_test = train_test_split(X, y, test_size=0.2, random_state=42)"
   ]
  },
  {
   "cell_type": "code",
   "execution_count": 5,
   "id": "27769fa6",
   "metadata": {
    "scrolled": true
   },
   "outputs": [
    {
     "name": "stdout",
     "output_type": "stream",
     "text": [
      "RMSE: 591.9480841317676\n",
      "MDAPE: 57.150247594740556\n"
     ]
    }
   ],
   "source": [
    "import lightgbm as lgb\n",
    "\n",
    "# 모델 생성\n",
    "model = lgb.LGBMRegressor()\n",
    "\n",
    "# 모델 훈련\n",
    "model.fit(X_train, y_train)\n",
    "\n",
    "# 테스트 데이터로 예측\n",
    "predictions = model.predict(X_test)\n",
    "\n",
    "# 평가 지표 계산\n",
    "rmse = calculate_rmse(y_test, predictions)\n",
    "mdape = calculate_mdape(y_test, predictions)\n",
    "\n",
    "print(\"RMSE:\", rmse)\n",
    "print(\"MDAPE:\", mdape)"
   ]
  },
  {
   "cell_type": "code",
   "execution_count": 38,
   "id": "75b5444e",
   "metadata": {},
   "outputs": [],
   "source": [
    "from sklearn.model_selection import train_test_split\n",
    "\n",
    "y = YR[\"Income\"]\n",
    "\n",
    "X = YR.copy()\n",
    "X = X.drop([\"ID\",\"Income\"], axis = 1)\n",
    "\n",
    "X_train, X_test, y_train, y_test = train_test_split(X, y, test_size=0.2, random_state=42)"
   ]
  },
  {
   "cell_type": "code",
   "execution_count": 40,
   "id": "c97964bb",
   "metadata": {},
   "outputs": [
    {
     "name": "stdout",
     "output_type": "stream",
     "text": [
      "RMSE: 594.0682728194605\n",
      "MDAPE: 57.06601457307521\n"
     ]
    }
   ],
   "source": [
    "import lightgbm as lgb\n",
    "\n",
    "# 모델 생성\n",
    "model = lgb.LGBMRegressor(random_state=42)\n",
    "\n",
    "# 모델 훈련\n",
    "model.fit(X_train, y_train)\n",
    "\n",
    "# 테스트 데이터로 예측\n",
    "predictions = model.predict(X_test)\n",
    "\n",
    "# 평가 지표 계산\n",
    "rmse = calculate_rmse(y_test, predictions)\n",
    "mdape = calculate_mdape(y_test, predictions)\n",
    "\n",
    "print(\"RMSE:\", rmse)\n",
    "print(\"MDAPE:\", mdape)"
   ]
  },
  {
   "cell_type": "code",
   "execution_count": 41,
   "id": "36b54ff2",
   "metadata": {},
   "outputs": [
    {
     "name": "stdout",
     "output_type": "stream",
     "text": [
      "Package                            Version\n",
      "---------------------------------- --------------------\n",
      "absl-py                            1.4.0\n",
      "aiosignal                          1.2.0\n",
      "alabaster                          0.7.12\n",
      "anaconda-client                    1.9.0\n",
      "anaconda-navigator                 2.3.2\n",
      "anaconda-project                   0.10.1\n",
      "anyio                              2.2.0\n",
      "appdirs                            1.4.4\n",
      "argh                               0.26.2\n",
      "argon2-cffi                        20.1.0\n",
      "arrow                              0.13.1\n",
      "asn1crypto                         1.4.0\n",
      "astroid                            2.6.6\n",
      "astropy                            4.3.1\n",
      "astunparse                         1.6.3\n",
      "async-generator                    1.10\n",
      "atomicwrites                       1.4.0\n",
      "attrs                              21.2.0\n",
      "autopep8                           1.5.7\n",
      "Babel                              2.9.1\n",
      "backcall                           0.2.0\n",
      "backports.functools-lru-cache      1.6.4\n",
      "backports.shutil-get-terminal-size 1.0.0\n",
      "backports.tempfile                 1.0\n",
      "backports.weakref                  1.0.post1\n",
      "bcrypt                             3.2.0\n",
      "beautifulsoup4                     4.10.0\n",
      "binaryornot                        0.4.4\n",
      "bitarray                           2.3.0\n",
      "bkcharts                           0.2\n",
      "black                              19.10b0\n",
      "bleach                             4.0.0\n",
      "bokeh                              2.4.1\n",
      "boto                               2.49.0\n",
      "Bottleneck                         1.3.2\n",
      "brotlipy                           0.7.0\n",
      "cached-property                    1.5.2\n",
      "cachetools                         5.2.1\n",
      "catboost                           1.2.3\n",
      "certifi                            2022.9.24\n",
      "cffi                               1.14.6\n",
      "chardet                            4.0.0\n",
      "charset-normalizer                 2.0.4\n",
      "click                              8.0.3\n",
      "cloudpickle                        2.0.0\n",
      "clyent                             1.2.2\n",
      "colorama                           0.4.4\n",
      "comtypes                           1.1.10\n",
      "conda                              22.9.0\n",
      "conda-build                        3.21.6\n",
      "conda-content-trust                0+unknown\n",
      "conda-pack                         0.6.0\n",
      "conda-package-handling             1.7.3\n",
      "conda-repo-cli                     1.0.4\n",
      "conda-token                        0.3.0\n",
      "conda-verify                       3.4.2\n",
      "contextlib2                        0.6.0.post1\n",
      "cookiecutter                       1.7.2\n",
      "cryptography                       3.4.8\n",
      "cycler                             0.10.0\n",
      "Cython                             0.29.24\n",
      "cytoolz                            0.11.0\n",
      "daal4py                            2021.3.0\n",
      "dask                               2021.10.0\n",
      "debugpy                            1.4.1\n",
      "decorator                          5.1.0\n",
      "defusedxml                         0.7.1\n",
      "diff-match-patch                   20200713\n",
      "Note: you may need to restart the kernel to use updated packages.\n",
      "distlib                            0.3.4\n",
      "distributed                        2021.10.0\n",
      "docutils                           0.17.1\n",
      "entrypoints                        0.3\n",
      "et-xmlfile                         1.1.0\n",
      "fastcache                          1.1.0\n",
      "fastjsonschema                     2.16.2\n",
      "filelock                           3.3.1\n",
      "flake8                             3.9.2\n",
      "Flask                              1.1.2\n",
      "flatbuffers                        23.1.4\n",
      "fonttools                          4.25.0\n",
      "frozenlist                         1.3.0\n",
      "fsspec                             2021.10.1\n",
      "future                             0.18.2\n",
      "gast                               0.4.0\n",
      "gevent                             21.8.0\n",
      "glob2                              0.7\n",
      "google-auth                        2.16.0\n",
      "google-auth-oauthlib               0.4.6\n",
      "google-pasta                       0.2.0\n",
      "graphviz                           0.20.3\n",
      "greenlet                           1.1.1\n",
      "grpcio                             1.43.0\n",
      "h11                                0.13.0\n",
      "h5py                               3.2.1\n",
      "HeapDict                           1.0.1\n",
      "html5lib                           1.1\n",
      "htmlmin                            0.1.12\n",
      "idna                               3.2\n",
      "imagecodecs                        2021.8.26\n",
      "ImageHash                          4.2.1\n",
      "imageio                            2.9.0\n",
      "imagesize                          1.2.0\n",
      "imbalanced-learn                   0.9.1\n",
      "imblearn                           0.0\n",
      "importlib-metadata                 4.8.1\n",
      "inflection                         0.5.1\n",
      "iniconfig                          1.1.1\n",
      "intervaltree                       3.1.0\n",
      "ipykernel                          6.4.1\n",
      "ipython                            7.29.0\n",
      "ipython-genutils                   0.2.0\n",
      "ipywidgets                         7.6.5\n",
      "isort                              5.9.3\n",
      "itsdangerous                       2.0.1\n",
      "jdcal                              1.4.1\n",
      "jedi                               0.18.0\n",
      "Jinja2                             2.11.3\n",
      "jinja2-time                        0.2.0\n",
      "joblib                             1.4.0\n",
      "json5                              0.9.6\n",
      "jsonschema                         3.2.0\n",
      "jupyter                            1.0.0\n",
      "jupyter-client                     6.1.12\n",
      "jupyter-console                    6.4.0\n",
      "jupyter-core                       4.8.1\n",
      "jupyter-server                     1.4.1\n",
      "jupyterlab                         3.2.1\n",
      "jupyterlab-pygments                0.1.2\n",
      "jupyterlab-server                  2.8.2\n",
      "jupyterlab-widgets                 1.0.0\n",
      "jupytext                           1.13.8\n",
      "keras                              2.11.0\n",
      "keyring                            23.1.0\n",
      "kiwisolver                         1.3.1\n",
      "lazy-object-proxy                  1.6.0\n",
      "libarchive-c                       2.9\n",
      "libclang                           15.0.6.1\n",
      "lightgbm                           3.3.2\n",
      "llvmlite                           0.37.0\n",
      "locket                             0.2.1\n",
      "lxml                               4.6.3\n",
      "Markdown                           3.4.1\n",
      "markdown-it-py                     2.1.0\n",
      "MarkupSafe                         2.1.1\n",
      "matplotlib                         3.4.3\n",
      "matplotlib-inline                  0.1.2\n",
      "mccabe                             0.6.1\n",
      "mdit-py-plugins                    0.3.0\n",
      "mdurl                              0.1.1\n",
      "menuinst                           1.4.18\n",
      "mglearn                            0.1.9\n",
      "missingno                          0.5.1\n",
      "mistune                            0.8.4\n",
      "mkl-fft                            1.3.1\n",
      "mkl-random                         1.2.2\n",
      "mkl-service                        2.4.0\n",
      "mock                               4.0.3\n",
      "more-itertools                     8.10.0\n",
      "mpmath                             1.2.1\n",
      "msgpack                            1.0.2\n",
      "multimethod                        1.8\n",
      "multipledispatch                   0.6.0\n",
      "munkres                            1.1.4\n",
      "mypy-extensions                    0.4.3\n",
      "navigator-updater                  0.2.1\n",
      "nbclassic                          0.2.6\n",
      "nbclient                           0.5.3\n",
      "nbconvert                          6.1.0\n",
      "nbformat                           5.5.0\n",
      "nest-asyncio                       1.5.1\n",
      "networkx                           2.6.3\n",
      "nltk                               3.6.5\n",
      "nose                               1.3.7\n",
      "notebook                           6.4.5\n",
      "numba                              0.54.1\n",
      "numexpr                            2.7.3\n",
      "numpy                              1.20.3\n",
      "numpydoc                           1.1.0\n",
      "oauthlib                           3.2.2\n",
      "olefile                            0.46\n",
      "openpyxl                           3.0.9\n",
      "opt-einsum                         3.3.0\n",
      "outcome                            1.1.0\n",
      "packaging                          21.0\n",
      "pandas                             1.3.4\n",
      "pandas-profiling                   3.2.0\n",
      "pandocfilters                      1.4.3\n",
      "paramiko                           2.7.2\n",
      "parso                              0.8.2\n",
      "partd                              1.2.0\n",
      "path                               16.0.0\n",
      "pathlib2                           2.3.6\n",
      "pathspec                           0.7.0\n",
      "patsy                              0.5.2\n",
      "pep8                               1.7.1\n",
      "pexpect                            4.8.0\n",
      "phik                               0.12.2\n",
      "pickleshare                        0.7.5\n",
      "Pillow                             8.4.0\n",
      "pip                                21.2.4\n",
      "pkginfo                            1.7.1\n",
      "platformdirs                       2.5.2\n",
      "plotly                             5.20.0\n",
      "pluggy                             0.13.1\n",
      "ply                                3.11\n",
      "poyo                               0.5.0\n",
      "prometheus-client                  0.11.0\n",
      "prompt-toolkit                     3.0.20\n",
      "protobuf                           3.19.6\n",
      "psutil                             5.8.0\n",
      "ptyprocess                         0.7.0\n",
      "py                                 1.10.0\n",
      "pyasn1                             0.4.8\n",
      "pyasn1-modules                     0.2.8\n",
      "pycodestyle                        2.7.0\n",
      "pycosat                            0.6.3\n",
      "pycparser                          2.20\n",
      "pycurl                             7.44.1\n",
      "pydantic                           1.9.1\n",
      "pydocstyle                         6.1.1\n",
      "pyerfa                             2.0.0\n",
      "pyflakes                           2.3.1\n",
      "Pygments                           2.10.0\n",
      "PyJWT                              2.1.0\n",
      "pylint                             2.9.6\n",
      "pyls-spyder                        0.4.0\n",
      "PyNaCl                             1.4.0\n",
      "pyodbc                             4.0.0-unsupported\n",
      "pyOpenSSL                          21.0.0\n",
      "pyparsing                          3.0.4\n",
      "pyreadline                         2.1\n",
      "pyrsistent                         0.18.0\n",
      "PySocks                            1.7.1\n",
      "pytest                             6.2.4\n",
      "python-dateutil                    2.8.2\n",
      "python-lsp-black                   1.0.0\n",
      "python-lsp-jsonrpc                 1.0.0\n",
      "python-lsp-server                  1.2.4\n",
      "python-slugify                     5.0.2\n",
      "pytz                               2021.3\n",
      "PyWavelets                         1.1.1\n",
      "pywin32                            305\n",
      "pywin32-ctypes                     0.2.0\n",
      "pywinpty                           0.5.7\n",
      "PyYAML                             6.0\n",
      "pyzmq                              22.2.1\n",
      "QDarkStyle                         3.0.2\n",
      "qstylizer                          0.1.10\n",
      "QtAwesome                          1.0.2\n",
      "qtconsole                          5.1.1\n",
      "QtPy                               1.10.0\n",
      "ray                                1.13.0\n",
      "regex                              2021.8.3\n",
      "requests                           2.26.0\n",
      "requests-oauthlib                  1.3.1\n",
      "rope                               0.19.0\n",
      "rsa                                4.9\n",
      "Rtree                              0.9.7\n",
      "ruamel-yaml-conda                  0.15.100\n",
      "scikit-image                       0.18.3\n",
      "scikit-learn                       1.4.0\n",
      "scikit-learn-intelex               2021.20210714.120553\n",
      "scipy                              1.7.1\n",
      "seaborn                            0.11.2\n",
      "selenium                           4.1.5\n",
      "Send2Trash                         1.8.0\n",
      "setuptools                         58.0.4\n",
      "shap                               0.44.1\n",
      "simplegeneric                      0.8.1\n",
      "singledispatch                     3.7.0\n",
      "sip                                4.19.13\n",
      "six                                1.16.0\n",
      "slicer                             0.0.7\n",
      "sniffio                            1.2.0\n",
      "snowballstemmer                    2.1.0\n",
      "sortedcollections                  2.1.0\n",
      "sortedcontainers                   2.4.0\n",
      "soupsieve                          2.2.1\n",
      "Sphinx                             4.2.0\n",
      "sphinxcontrib-applehelp            1.0.2\n",
      "sphinxcontrib-devhelp              1.0.2\n",
      "sphinxcontrib-htmlhelp             2.0.0\n",
      "sphinxcontrib-jsmath               1.0.1\n",
      "sphinxcontrib-qthelp               1.0.3\n",
      "sphinxcontrib-serializinghtml      1.1.5\n",
      "sphinxcontrib-websupport           1.2.4\n",
      "spyder                             5.1.5\n",
      "spyder-kernels                     2.1.3\n",
      "SQLAlchemy                         1.4.22\n",
      "statsmodels                        0.12.2\n",
      "sympy                              1.9\n",
      "tables                             3.6.1\n",
      "tabulate                           0.8.9\n",
      "tangled-up-in-unicode              0.2.0\n",
      "TBB                                0.2\n",
      "tblib                              1.7.0\n",
      "tenacity                           8.2.3\n",
      "tensorboard                        2.11.2\n",
      "tensorboard-data-server            0.6.1\n",
      "tensorboard-plugin-wit             1.8.1\n",
      "tensorboardX                       2.5.1\n",
      "tensorflow                         2.11.0\n",
      "tensorflow-estimator               2.11.0\n",
      "tensorflow-intel                   2.11.0\n",
      "tensorflow-io-gcs-filesystem       0.29.0\n",
      "termcolor                          2.2.0\n",
      "terminado                          0.9.4\n",
      "testpath                           0.5.0\n",
      "text-unidecode                     1.3\n",
      "textdistance                       4.2.1\n",
      "threadpoolctl                      2.2.0\n",
      "three-merge                        0.1.1\n",
      "tifffile                           2021.7.2\n",
      "tinycss                            0.4\n",
      "toml                               0.10.2\n",
      "toolz                              0.11.1\n",
      "tornado                            6.1\n",
      "tqdm                               4.62.3\n",
      "traitlets                          5.1.0\n",
      "trio                               0.20.0\n",
      "trio-websocket                     0.9.2\n",
      "typed-ast                          1.4.3\n",
      "typing-extensions                  3.10.0.2\n",
      "ujson                              4.0.2\n",
      "unicodecsv                         0.14.1\n",
      "Unidecode                          1.2.0\n",
      "urllib3                            1.26.7\n",
      "virtualenv                         20.14.1\n",
      "visions                            0.7.4\n",
      "watchdog                           2.1.3\n",
      "wcwidth                            0.2.5\n",
      "webdriver-manager                  3.5.4\n",
      "webencodings                       0.5.1\n",
      "Werkzeug                           2.0.2\n",
      "wget                               3.2\n",
      "wheel                              0.37.0\n",
      "whichcraft                         0.6.1\n",
      "widgetsnbextension                 3.5.1\n",
      "win-inet-pton                      1.1.0\n",
      "win-unicode-console                0.5\n",
      "wincertstore                       0.2\n",
      "wrapt                              1.12.1\n",
      "wsproto                            1.1.0\n",
      "xgboost                            1.6.1\n",
      "xlrd                               2.0.1\n",
      "XlsxWriter                         3.0.1\n",
      "xlwings                            0.24.9\n",
      "xlwt                               1.3.0\n",
      "xmltodict                          0.12.0\n",
      "yapf                               0.31.0\n",
      "yellowbrick                        1.5\n",
      "zict                               2.0.0\n",
      "zipp                               3.6.0\n",
      "zope.event                         4.5.0\n",
      "zope.interface                     5.4.0\n"
     ]
    }
   ],
   "source": [
    "pip list"
   ]
  },
  {
   "cell_type": "markdown",
   "id": "050a0482",
   "metadata": {},
   "source": [
    "### (2) standard scaler"
   ]
  },
  {
   "cell_type": "code",
   "execution_count": 6,
   "id": "c13f9f9d",
   "metadata": {},
   "outputs": [],
   "source": [
    "from sklearn.model_selection import train_test_split\n",
    "\n",
    "y = df_OO_st[\"Income\"]\n",
    "\n",
    "X = df_OO_st.copy()\n",
    "X = X.drop([\"ID\",\"Income\"], axis = 1)\n",
    "\n",
    "X_train, X_test, y_train, y_test = train_test_split(X, y, test_size=0.2, random_state=42)"
   ]
  },
  {
   "cell_type": "code",
   "execution_count": 7,
   "id": "bff7efd5",
   "metadata": {
    "scrolled": true
   },
   "outputs": [
    {
     "name": "stdout",
     "output_type": "stream",
     "text": [
      "RMSE: 592.5308805294699\n",
      "MDAPE: 55.90465842529353\n"
     ]
    }
   ],
   "source": [
    "import lightgbm as lgb\n",
    "\n",
    "# 모델 생성\n",
    "model = lgb.LGBMRegressor()\n",
    "\n",
    "# 모델 훈련\n",
    "model.fit(X_train, y_train)\n",
    "\n",
    "# 테스트 데이터로 예측\n",
    "predictions = model.predict(X_test)\n",
    "\n",
    "# 평가 지표 계산\n",
    "rmse = calculate_rmse(y_test, predictions)\n",
    "mdape = calculate_mdape(y_test, predictions)\n",
    "\n",
    "print(\"RMSE:\", rmse)\n",
    "print(\"MDAPE:\", mdape)"
   ]
  },
  {
   "cell_type": "markdown",
   "id": "fa93365a",
   "metadata": {},
   "source": [
    "### (3) robust scaler"
   ]
  },
  {
   "cell_type": "code",
   "execution_count": 8,
   "id": "748fc616",
   "metadata": {},
   "outputs": [],
   "source": [
    "from sklearn.model_selection import train_test_split\n",
    "\n",
    "y = df_OO_rob[\"Income\"]\n",
    "\n",
    "X = df_OO_rob.copy()\n",
    "X = X.drop([\"ID\",\"Income\"], axis = 1)\n",
    "\n",
    "X_train, X_test, y_train, y_test = train_test_split(X, y, test_size=0.2, random_state=42)"
   ]
  },
  {
   "cell_type": "code",
   "execution_count": 9,
   "id": "2859a230",
   "metadata": {
    "scrolled": true
   },
   "outputs": [
    {
     "name": "stdout",
     "output_type": "stream",
     "text": [
      "RMSE: 593.554095740482\n",
      "MDAPE: 56.44218507399225\n"
     ]
    }
   ],
   "source": [
    "import lightgbm as lgb\n",
    "\n",
    "# 모델 생성\n",
    "model = lgb.LGBMRegressor()\n",
    "\n",
    "# 모델 훈련\n",
    "model.fit(X_train, y_train)\n",
    "\n",
    "# 테스트 데이터로 예측\n",
    "predictions = model.predict(X_test)\n",
    "\n",
    "# 평가 지표 계산\n",
    "rmse = calculate_rmse(y_test, predictions)\n",
    "mdape = calculate_mdape(y_test, predictions)\n",
    "\n",
    "print(\"RMSE:\", rmse)\n",
    "print(\"MDAPE:\", mdape)"
   ]
  },
  {
   "cell_type": "markdown",
   "id": "35b4e8f4",
   "metadata": {},
   "source": [
    "### (4) maxabs scaler"
   ]
  },
  {
   "cell_type": "code",
   "execution_count": 10,
   "id": "b38d40bf",
   "metadata": {},
   "outputs": [],
   "source": [
    "from sklearn.model_selection import train_test_split\n",
    "\n",
    "y = df_OO_max[\"Income\"]\n",
    "\n",
    "X = df_OO_max.copy()\n",
    "X = X.drop([\"ID\",\"Income\"], axis = 1)\n",
    "\n",
    "X_train, X_test, y_train, y_test = train_test_split(X, y, test_size=0.2, random_state=42)"
   ]
  },
  {
   "cell_type": "code",
   "execution_count": 11,
   "id": "1d05f9c6",
   "metadata": {
    "scrolled": false
   },
   "outputs": [
    {
     "name": "stdout",
     "output_type": "stream",
     "text": [
      "RMSE: 593.554095740482\n",
      "MDAPE: 56.44218507399225\n"
     ]
    }
   ],
   "source": [
    "import lightgbm as lgb\n",
    "\n",
    "# 모델 생성\n",
    "model = lgb.LGBMRegressor()\n",
    "\n",
    "# 모델 훈련\n",
    "model.fit(X_train, y_train)\n",
    "\n",
    "# 테스트 데이터로 예측\n",
    "predictions = model.predict(X_test)\n",
    "\n",
    "# 평가 지표 계산\n",
    "rmse = calculate_rmse(y_test, predictions)\n",
    "mdape = calculate_mdape(y_test, predictions)\n",
    "\n",
    "print(\"RMSE:\", rmse)\n",
    "print(\"MDAPE:\", mdape)"
   ]
  },
  {
   "cell_type": "markdown",
   "id": "4d9846b3",
   "metadata": {},
   "source": [
    "## 2. df_0X (Hispanic Origin 전처리 O & Birth_Country 전처리 X)"
   ]
  },
  {
   "cell_type": "markdown",
   "id": "9410dcc6",
   "metadata": {},
   "source": [
    "### (1) minmax scaler"
   ]
  },
  {
   "cell_type": "code",
   "execution_count": 12,
   "id": "9c7c94e1",
   "metadata": {},
   "outputs": [],
   "source": [
    "from sklearn.model_selection import train_test_split\n",
    "\n",
    "y = df_OX_min[\"Income\"]\n",
    "\n",
    "X = df_OX_min.copy()\n",
    "X = X.drop([\"ID\",\"Income\"], axis = 1)\n",
    "\n",
    "X_train, X_test, y_train, y_test = train_test_split(X, y, test_size=0.2, random_state=42)"
   ]
  },
  {
   "cell_type": "code",
   "execution_count": 13,
   "id": "8ec531dd",
   "metadata": {
    "scrolled": true
   },
   "outputs": [
    {
     "name": "stdout",
     "output_type": "stream",
     "text": [
      "RMSE: 593.1119000253949\n",
      "MDAPE: 56.53244229902587\n"
     ]
    }
   ],
   "source": [
    "import lightgbm as lgb\n",
    "\n",
    "# 모델 생성\n",
    "model = lgb.LGBMRegressor()\n",
    "\n",
    "# 모델 훈련\n",
    "model.fit(X_train, y_train)\n",
    "\n",
    "# 테스트 데이터로 예측\n",
    "predictions = model.predict(X_test)\n",
    "\n",
    "# 평가 지표 계산\n",
    "rmse = calculate_rmse(y_test, predictions)\n",
    "mdape = calculate_mdape(y_test, predictions)\n",
    "\n",
    "print(\"RMSE:\", rmse)\n",
    "print(\"MDAPE:\", mdape)"
   ]
  },
  {
   "cell_type": "markdown",
   "id": "2e664c31",
   "metadata": {},
   "source": [
    "### (2) standard scaler"
   ]
  },
  {
   "cell_type": "code",
   "execution_count": 14,
   "id": "46dfdeb3",
   "metadata": {},
   "outputs": [],
   "source": [
    "from sklearn.model_selection import train_test_split\n",
    "\n",
    "y = df_OX_st[\"Income\"]\n",
    "\n",
    "X = df_OX_st.copy()\n",
    "X = X.drop([\"ID\",\"Income\"], axis = 1)\n",
    "\n",
    "X_train, X_test, y_train, y_test = train_test_split(X, y, test_size=0.2, random_state=42)"
   ]
  },
  {
   "cell_type": "code",
   "execution_count": 15,
   "id": "571c01d6",
   "metadata": {
    "scrolled": true
   },
   "outputs": [
    {
     "name": "stdout",
     "output_type": "stream",
     "text": [
      "RMSE: 594.2382097990464\n",
      "MDAPE: 56.566526910114135\n"
     ]
    }
   ],
   "source": [
    "import lightgbm as lgb\n",
    "\n",
    "# 모델 생성\n",
    "model = lgb.LGBMRegressor()\n",
    "\n",
    "# 모델 훈련\n",
    "model.fit(X_train, y_train)\n",
    "\n",
    "# 테스트 데이터로 예측\n",
    "predictions = model.predict(X_test)\n",
    "\n",
    "# 평가 지표 계산\n",
    "rmse = calculate_rmse(y_test, predictions)\n",
    "mdape = calculate_mdape(y_test, predictions)\n",
    "\n",
    "print(\"RMSE:\", rmse)\n",
    "print(\"MDAPE:\", mdape)"
   ]
  },
  {
   "cell_type": "markdown",
   "id": "779520ad",
   "metadata": {},
   "source": [
    "### (3) robust scaler"
   ]
  },
  {
   "cell_type": "code",
   "execution_count": 16,
   "id": "80c422bf",
   "metadata": {},
   "outputs": [],
   "source": [
    "from sklearn.model_selection import train_test_split\n",
    "\n",
    "y = df_OX_rob[\"Income\"]\n",
    "\n",
    "X = df_OX_rob.copy()\n",
    "X = X.drop([\"ID\",\"Income\"], axis = 1)\n",
    "\n",
    "X_train, X_test, y_train, y_test = train_test_split(X, y, test_size=0.2, random_state=42)"
   ]
  },
  {
   "cell_type": "code",
   "execution_count": 17,
   "id": "718a5f74",
   "metadata": {
    "scrolled": true
   },
   "outputs": [
    {
     "name": "stdout",
     "output_type": "stream",
     "text": [
      "RMSE: 594.7760363748657\n",
      "MDAPE: 56.733616306508324\n"
     ]
    }
   ],
   "source": [
    "import lightgbm as lgb\n",
    "\n",
    "# 모델 생성\n",
    "model = lgb.LGBMRegressor()\n",
    "\n",
    "# 모델 훈련\n",
    "model.fit(X_train, y_train)\n",
    "\n",
    "# 테스트 데이터로 예측\n",
    "predictions = model.predict(X_test)\n",
    "\n",
    "# 평가 지표 계산\n",
    "rmse = calculate_rmse(y_test, predictions)\n",
    "mdape = calculate_mdape(y_test, predictions)\n",
    "\n",
    "print(\"RMSE:\", rmse)\n",
    "print(\"MDAPE:\", mdape)"
   ]
  },
  {
   "cell_type": "markdown",
   "id": "640671ce",
   "metadata": {},
   "source": [
    "### (4) maxabs scaler"
   ]
  },
  {
   "cell_type": "code",
   "execution_count": 18,
   "id": "951c848e",
   "metadata": {},
   "outputs": [],
   "source": [
    "from sklearn.model_selection import train_test_split\n",
    "\n",
    "y = df_OX_max[\"Income\"]\n",
    "\n",
    "X = df_OX_max.copy()\n",
    "X = X.drop([\"ID\",\"Income\"], axis = 1)\n",
    "\n",
    "X_train, X_test, y_train, y_test = train_test_split(X, y, test_size=0.2, random_state=42)"
   ]
  },
  {
   "cell_type": "code",
   "execution_count": 19,
   "id": "bd57aadf",
   "metadata": {
    "scrolled": true
   },
   "outputs": [
    {
     "name": "stdout",
     "output_type": "stream",
     "text": [
      "RMSE: 594.7760363748657\n",
      "MDAPE: 56.733616306508324\n"
     ]
    }
   ],
   "source": [
    "import lightgbm as lgb\n",
    "\n",
    "# 모델 생성\n",
    "model = lgb.LGBMRegressor()\n",
    "\n",
    "# 모델 훈련\n",
    "model.fit(X_train, y_train)\n",
    "\n",
    "# 테스트 데이터로 예측\n",
    "predictions = model.predict(X_test)\n",
    "\n",
    "# 평가 지표 계산\n",
    "rmse = calculate_rmse(y_test, predictions)\n",
    "mdape = calculate_mdape(y_test, predictions)\n",
    "\n",
    "print(\"RMSE:\", rmse)\n",
    "print(\"MDAPE:\", mdape)"
   ]
  },
  {
   "cell_type": "markdown",
   "id": "854dda60",
   "metadata": {},
   "source": [
    "## 3. df_X0 (Hispanic Origin 전처리 X & Birth_Country 전처리 O)"
   ]
  },
  {
   "cell_type": "markdown",
   "id": "7b2745ee",
   "metadata": {},
   "source": [
    "### (1) minmax scaler"
   ]
  },
  {
   "cell_type": "code",
   "execution_count": 20,
   "id": "d38703dc",
   "metadata": {},
   "outputs": [],
   "source": [
    "from sklearn.model_selection import train_test_split\n",
    "\n",
    "y = df_XO_min[\"Income\"]\n",
    "\n",
    "X = df_XO_min.copy()\n",
    "X = X.drop([\"ID\",\"Income\"], axis = 1)\n",
    "\n",
    "X_train, X_test, y_train, y_test = train_test_split(X, y, test_size=0.2, random_state=42)"
   ]
  },
  {
   "cell_type": "code",
   "execution_count": 21,
   "id": "d7a152b3",
   "metadata": {
    "scrolled": true
   },
   "outputs": [
    {
     "name": "stdout",
     "output_type": "stream",
     "text": [
      "RMSE: 592.0798734129645\n",
      "MDAPE: 56.19592997223823\n"
     ]
    }
   ],
   "source": [
    "import lightgbm as lgb\n",
    "\n",
    "# 모델 생성\n",
    "model = lgb.LGBMRegressor()\n",
    "\n",
    "# 모델 훈련\n",
    "model.fit(X_train, y_train)\n",
    "\n",
    "# 테스트 데이터로 예측\n",
    "predictions = model.predict(X_test)\n",
    "\n",
    "# 평가 지표 계산\n",
    "rmse = calculate_rmse(y_test, predictions)\n",
    "mdape = calculate_mdape(y_test, predictions)\n",
    "\n",
    "print(\"RMSE:\", rmse)\n",
    "print(\"MDAPE:\", mdape)"
   ]
  },
  {
   "cell_type": "markdown",
   "id": "9af563c2",
   "metadata": {},
   "source": [
    "### (2) standard scaler"
   ]
  },
  {
   "cell_type": "code",
   "execution_count": 22,
   "id": "40e99464",
   "metadata": {},
   "outputs": [],
   "source": [
    "from sklearn.model_selection import train_test_split\n",
    "\n",
    "y = df_XO_st[\"Income\"]\n",
    "\n",
    "X = df_XO_st.copy()\n",
    "X = X.drop([\"ID\",\"Income\"], axis = 1)\n",
    "\n",
    "X_train, X_test, y_train, y_test = train_test_split(X, y, test_size=0.2, random_state=42)"
   ]
  },
  {
   "cell_type": "code",
   "execution_count": 23,
   "id": "acae4839",
   "metadata": {
    "scrolled": true
   },
   "outputs": [
    {
     "name": "stdout",
     "output_type": "stream",
     "text": [
      "RMSE: 590.9553851233725\n",
      "MDAPE: 56.96022717245641\n"
     ]
    }
   ],
   "source": [
    "import lightgbm as lgb\n",
    "\n",
    "# 모델 생성\n",
    "model = lgb.LGBMRegressor()\n",
    "\n",
    "# 모델 훈련\n",
    "model.fit(X_train, y_train)\n",
    "\n",
    "# 테스트 데이터로 예측\n",
    "predictions = model.predict(X_test)\n",
    "\n",
    "# 평가 지표 계산\n",
    "rmse = calculate_rmse(y_test, predictions)\n",
    "mdape = calculate_mdape(y_test, predictions)\n",
    "\n",
    "print(\"RMSE:\", rmse)\n",
    "print(\"MDAPE:\", mdape)"
   ]
  },
  {
   "cell_type": "markdown",
   "id": "a7c308de",
   "metadata": {},
   "source": [
    "### (3) robust scaler"
   ]
  },
  {
   "cell_type": "code",
   "execution_count": 24,
   "id": "c6488251",
   "metadata": {},
   "outputs": [],
   "source": [
    "from sklearn.model_selection import train_test_split\n",
    "\n",
    "y = df_XO_rob[\"Income\"]\n",
    "\n",
    "X = df_XO_rob.copy()\n",
    "X = X.drop([\"ID\",\"Income\"], axis = 1)\n",
    "\n",
    "X_train, X_test, y_train, y_test = train_test_split(X, y, test_size=0.2, random_state=42)"
   ]
  },
  {
   "cell_type": "code",
   "execution_count": 25,
   "id": "f9eedf05",
   "metadata": {
    "scrolled": true
   },
   "outputs": [
    {
     "name": "stdout",
     "output_type": "stream",
     "text": [
      "RMSE: 589.6032930437971\n",
      "MDAPE: 55.78682665184513\n"
     ]
    }
   ],
   "source": [
    "import lightgbm as lgb\n",
    "\n",
    "# 모델 생성\n",
    "model = lgb.LGBMRegressor()\n",
    "\n",
    "# 모델 훈련\n",
    "model.fit(X_train, y_train)\n",
    "\n",
    "# 테스트 데이터로 예측\n",
    "predictions = model.predict(X_test)\n",
    "\n",
    "# 평가 지표 계산\n",
    "rmse = calculate_rmse(y_test, predictions)\n",
    "mdape = calculate_mdape(y_test, predictions)\n",
    "\n",
    "print(\"RMSE:\", rmse)\n",
    "print(\"MDAPE:\", mdape)"
   ]
  },
  {
   "cell_type": "markdown",
   "id": "b33fcf26",
   "metadata": {},
   "source": [
    "### (4) maxabs scaler"
   ]
  },
  {
   "cell_type": "code",
   "execution_count": 26,
   "id": "c50f034a",
   "metadata": {},
   "outputs": [],
   "source": [
    "from sklearn.model_selection import train_test_split\n",
    "\n",
    "y = df_XO_max[\"Income\"]\n",
    "\n",
    "X = df_XO_max.copy()\n",
    "X = X.drop([\"ID\",\"Income\"], axis = 1)\n",
    "\n",
    "X_train, X_test, y_train, y_test = train_test_split(X, y, test_size=0.2, random_state=42)"
   ]
  },
  {
   "cell_type": "code",
   "execution_count": 27,
   "id": "ef331952",
   "metadata": {
    "scrolled": true
   },
   "outputs": [
    {
     "name": "stdout",
     "output_type": "stream",
     "text": [
      "RMSE: 589.6032930437971\n",
      "MDAPE: 55.78682665184513\n"
     ]
    }
   ],
   "source": [
    "import lightgbm as lgb\n",
    "\n",
    "# 모델 생성\n",
    "model = lgb.LGBMRegressor()\n",
    "\n",
    "# 모델 훈련\n",
    "model.fit(X_train, y_train)\n",
    "\n",
    "# 테스트 데이터로 예측\n",
    "predictions = model.predict(X_test)\n",
    "\n",
    "# 평가 지표 계산\n",
    "rmse = calculate_rmse(y_test, predictions)\n",
    "mdape = calculate_mdape(y_test, predictions)\n",
    "\n",
    "print(\"RMSE:\", rmse)\n",
    "print(\"MDAPE:\", mdape)"
   ]
  },
  {
   "cell_type": "markdown",
   "id": "1eb1019d",
   "metadata": {},
   "source": [
    "## 4. df_XX (Hispanic Origin 전처리 X & Birth_Country 전처리 X)"
   ]
  },
  {
   "cell_type": "markdown",
   "id": "52685612",
   "metadata": {},
   "source": [
    "### (1) minmax scaler"
   ]
  },
  {
   "cell_type": "code",
   "execution_count": 28,
   "id": "d55734d5",
   "metadata": {},
   "outputs": [],
   "source": [
    "from sklearn.model_selection import train_test_split\n",
    "\n",
    "y = df_XX_min[\"Income\"]\n",
    "\n",
    "X = df_XX_min.copy()\n",
    "X = X.drop([\"ID\",\"Income\"], axis = 1)\n",
    "\n",
    "X_train, X_test, y_train, y_test = train_test_split(X, y, test_size=0.2, random_state=42)"
   ]
  },
  {
   "cell_type": "code",
   "execution_count": 29,
   "id": "c240e46f",
   "metadata": {
    "scrolled": true
   },
   "outputs": [
    {
     "name": "stdout",
     "output_type": "stream",
     "text": [
      "RMSE: 594.4695819133136\n",
      "MDAPE: 56.57769847157428\n"
     ]
    }
   ],
   "source": [
    "import lightgbm as lgb\n",
    "\n",
    "# 모델 생성\n",
    "model = lgb.LGBMRegressor()\n",
    "\n",
    "# 모델 훈련\n",
    "model.fit(X_train, y_train)\n",
    "\n",
    "# 테스트 데이터로 예측\n",
    "predictions = model.predict(X_test)\n",
    "\n",
    "# 평가 지표 계산\n",
    "rmse = calculate_rmse(y_test, predictions)\n",
    "mdape = calculate_mdape(y_test, predictions)\n",
    "\n",
    "print(\"RMSE:\", rmse)\n",
    "print(\"MDAPE:\", mdape)"
   ]
  },
  {
   "cell_type": "markdown",
   "id": "fc46bda4",
   "metadata": {},
   "source": [
    "### (2) standard scaler"
   ]
  },
  {
   "cell_type": "code",
   "execution_count": 30,
   "id": "32600e9f",
   "metadata": {},
   "outputs": [],
   "source": [
    "from sklearn.model_selection import train_test_split\n",
    "\n",
    "y = df_XX_st[\"Income\"]\n",
    "\n",
    "X = df_XX_st.copy()\n",
    "X = X.drop([\"ID\",\"Income\"], axis = 1)\n",
    "\n",
    "X_train, X_test, y_train, y_test = train_test_split(X, y, test_size=0.2, random_state=42)"
   ]
  },
  {
   "cell_type": "code",
   "execution_count": 31,
   "id": "407f9c0f",
   "metadata": {
    "scrolled": true
   },
   "outputs": [
    {
     "name": "stdout",
     "output_type": "stream",
     "text": [
      "RMSE: 593.9303455880813\n",
      "MDAPE: 56.95430896520719\n"
     ]
    }
   ],
   "source": [
    "import lightgbm as lgb\n",
    "\n",
    "# 모델 생성\n",
    "model = lgb.LGBMRegressor()\n",
    "\n",
    "# 모델 훈련\n",
    "model.fit(X_train, y_train)\n",
    "\n",
    "# 테스트 데이터로 예측\n",
    "predictions = model.predict(X_test)\n",
    "\n",
    "# 평가 지표 계산\n",
    "rmse = calculate_rmse(y_test, predictions)\n",
    "mdape = calculate_mdape(y_test, predictions)\n",
    "\n",
    "print(\"RMSE:\", rmse)\n",
    "print(\"MDAPE:\", mdape)"
   ]
  },
  {
   "cell_type": "markdown",
   "id": "42f72195",
   "metadata": {},
   "source": [
    "### (3) robust scaler"
   ]
  },
  {
   "cell_type": "code",
   "execution_count": 32,
   "id": "d5b4bd70",
   "metadata": {},
   "outputs": [],
   "source": [
    "from sklearn.model_selection import train_test_split\n",
    "\n",
    "y = df_XX_rob[\"Income\"]\n",
    "\n",
    "X = df_XX_rob.copy()\n",
    "X = X.drop([\"ID\",\"Income\"], axis = 1)\n",
    "\n",
    "X_train, X_test, y_train, y_test = train_test_split(X, y, test_size=0.2, random_state=42)"
   ]
  },
  {
   "cell_type": "code",
   "execution_count": 33,
   "id": "3ba2fc10",
   "metadata": {
    "scrolled": true
   },
   "outputs": [
    {
     "name": "stdout",
     "output_type": "stream",
     "text": [
      "RMSE: 594.3388399735036\n",
      "MDAPE: 56.562847907571566\n"
     ]
    }
   ],
   "source": [
    "import lightgbm as lgb\n",
    "\n",
    "# 모델 생성\n",
    "model = lgb.LGBMRegressor()\n",
    "\n",
    "# 모델 훈련\n",
    "model.fit(X_train, y_train)\n",
    "\n",
    "# 테스트 데이터로 예측\n",
    "predictions = model.predict(X_test)\n",
    "\n",
    "# 평가 지표 계산\n",
    "rmse = calculate_rmse(y_test, predictions)\n",
    "mdape = calculate_mdape(y_test, predictions)\n",
    "\n",
    "print(\"RMSE:\", rmse)\n",
    "print(\"MDAPE:\", mdape)"
   ]
  },
  {
   "cell_type": "markdown",
   "id": "287f77dd",
   "metadata": {},
   "source": [
    "### (4) maxabs scaler"
   ]
  },
  {
   "cell_type": "code",
   "execution_count": 34,
   "id": "dc54311c",
   "metadata": {},
   "outputs": [],
   "source": [
    "from sklearn.model_selection import train_test_split\n",
    "\n",
    "y = df_XX_max[\"Income\"]\n",
    "\n",
    "X = df_XX_max.copy()\n",
    "X = X.drop([\"ID\",\"Income\"], axis = 1)\n",
    "\n",
    "X_train, X_test, y_train, y_test = train_test_split(X, y, test_size=0.2, random_state=42)"
   ]
  },
  {
   "cell_type": "code",
   "execution_count": 35,
   "id": "1447fd74",
   "metadata": {
    "scrolled": true
   },
   "outputs": [
    {
     "name": "stdout",
     "output_type": "stream",
     "text": [
      "RMSE: 594.3388399735036\n",
      "MDAPE: 56.562847907571566\n"
     ]
    }
   ],
   "source": [
    "import lightgbm as lgb\n",
    "\n",
    "# 모델 생성\n",
    "model = lgb.LGBMRegressor()\n",
    "\n",
    "# 모델 훈련\n",
    "model.fit(X_train, y_train)\n",
    "\n",
    "# 테스트 데이터로 예측\n",
    "predictions = model.predict(X_test)\n",
    "\n",
    "# 평가 지표 계산\n",
    "rmse = calculate_rmse(y_test, predictions)\n",
    "mdape = calculate_mdape(y_test, predictions)\n",
    "\n",
    "print(\"RMSE:\", rmse)\n",
    "print(\"MDAPE:\", mdape)"
   ]
  },
  {
   "cell_type": "code",
   "execution_count": null,
   "id": "9872d560",
   "metadata": {},
   "outputs": [],
   "source": []
  }
 ],
 "metadata": {
  "kernelspec": {
   "display_name": "Python 3 (ipykernel)",
   "language": "python",
   "name": "python3"
  },
  "language_info": {
   "codemirror_mode": {
    "name": "ipython",
    "version": 3
   },
   "file_extension": ".py",
   "mimetype": "text/x-python",
   "name": "python",
   "nbconvert_exporter": "python",
   "pygments_lexer": "ipython3",
   "version": "3.9.7"
  }
 },
 "nbformat": 4,
 "nbformat_minor": 5
}
